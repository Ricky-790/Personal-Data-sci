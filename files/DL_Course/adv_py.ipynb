{
 "cells": [
  {
   "cell_type": "markdown",
   "metadata": {},
   "source": [
    "### Custom Errors"
   ]
  },
  {
   "cell_type": "code",
   "execution_count": 1,
   "metadata": {},
   "outputs": [],
   "source": [
    "class Error(Exception): #Exception is builtin\n",
    "    pass\n",
    "\n",
    "class dobException(Error):\n",
    "    pass"
   ]
  },
  {
   "cell_type": "code",
   "execution_count": 2,
   "metadata": {},
   "outputs": [
    {
     "name": "stdout",
     "output_type": "stream",
     "text": [
      "You are not eligible for exam\n"
     ]
    }
   ],
   "source": [
    "year = int(input(\"Enter your year of birth: \"))\n",
    "age = 2024-year\n",
    "try:\n",
    "    if age<=30 and age>=20:\n",
    "        print(\"You are eligible for exam\")\n",
    "    else:\n",
    "        raise dobException(\"You are not eligible to vote\") #When raising an error or exception, we should also handle that exception with a try catch block\n",
    "except dobException:\n",
    "    print(\"You are not eligible for exam\")"
   ]
  },
  {
   "cell_type": "markdown",
   "metadata": {},
   "source": [
    "### Iterators\n",
    "<br>\n",
    "Iterators are python concepts that allow for efficient looping and memory management. They are used to iterate over a sequence of elements, such as a list, tuple, or string."
   ]
  },
  {
   "cell_type": "code",
   "execution_count": 13,
   "metadata": {},
   "outputs": [],
   "source": [
    "my_list = [1,2,3,4,5]\n",
    "iterator = iter(my_list)"
   ]
  },
  {
   "cell_type": "code",
   "execution_count": 14,
   "metadata": {},
   "outputs": [
    {
     "data": {
      "text/plain": [
       "list_iterator"
      ]
     },
     "execution_count": 14,
     "metadata": {},
     "output_type": "execute_result"
    }
   ],
   "source": [
    "type(iterator)"
   ]
  },
  {
   "cell_type": "code",
   "execution_count": 15,
   "metadata": {},
   "outputs": [
    {
     "data": {
      "text/plain": [
       "<list_iterator at 0x2202811ec20>"
      ]
     },
     "execution_count": 15,
     "metadata": {},
     "output_type": "execute_result"
    }
   ],
   "source": [
    "iterator"
   ]
  },
  {
   "cell_type": "code",
   "execution_count": 16,
   "metadata": {},
   "outputs": [
    {
     "name": "stdout",
     "output_type": "stream",
     "text": [
      "1\n",
      "2\n",
      "3\n",
      "4\n",
      "5\n"
     ]
    }
   ],
   "source": [
    "print(next(iterator)) #prints elements of my_list\n",
    "print(next(iterator))\n",
    "print(next(iterator))\n",
    "print(next(iterator))\n",
    "print(next(iterator))\n"
   ]
  },
  {
   "cell_type": "code",
   "execution_count": 17,
   "metadata": {},
   "outputs": [
    {
     "ename": "StopIteration",
     "evalue": "",
     "output_type": "error",
     "traceback": [
      "\u001b[1;31m---------------------------------------------------------------------------\u001b[0m",
      "\u001b[1;31mStopIteration\u001b[0m                             Traceback (most recent call last)",
      "Cell \u001b[1;32mIn[17], line 1\u001b[0m\n\u001b[1;32m----> 1\u001b[0m \u001b[38;5;28mprint\u001b[39m(\u001b[38;5;28;43mnext\u001b[39;49m\u001b[43m(\u001b[49m\u001b[43miterator\u001b[49m\u001b[43m)\u001b[49m) \u001b[38;5;66;03m#will throw error since iterator is out of range\u001b[39;00m\n",
      "\u001b[1;31mStopIteration\u001b[0m: "
     ]
    }
   ],
   "source": [
    "print(next(iterator)) #will throw error since iterator is out of range"
   ]
  },
  {
   "cell_type": "code",
   "execution_count": 20,
   "metadata": {},
   "outputs": [],
   "source": [
    "iterator = iter(my_list)"
   ]
  },
  {
   "cell_type": "code",
   "execution_count": 26,
   "metadata": {},
   "outputs": [
    {
     "name": "stdout",
     "output_type": "stream",
     "text": [
      "No more elements\n"
     ]
    }
   ],
   "source": [
    "try:\n",
    "    print(next(iterator))\n",
    "except StopIteration:\n",
    "    print(\"No more elements\")"
   ]
  },
  {
   "cell_type": "markdown",
   "metadata": {},
   "source": [
    "### Generators\n",
    "These are a sub class of iterators. They are a simple way of creating iterators. They use yield keyword to produce a series of values. They generate values on the fly and do not store tham in memory"
   ]
  },
  {
   "cell_type": "code",
   "execution_count": 28,
   "metadata": {},
   "outputs": [
    {
     "data": {
      "text/plain": [
       "0"
      ]
     },
     "execution_count": 28,
     "metadata": {},
     "output_type": "execute_result"
    }
   ],
   "source": [
    "def square(n):\n",
    "    for i in range (3):\n",
    "        return i**2\n",
    "\n",
    "square(3)"
   ]
  },
  {
   "cell_type": "code",
   "execution_count": null,
   "metadata": {},
   "outputs": [
    {
     "data": {
      "text/plain": [
       "<generator object square at 0x00000220282BCCF0>"
      ]
     },
     "execution_count": 33,
     "metadata": {},
     "output_type": "execute_result"
    }
   ],
   "source": [
    "def square(n):\n",
    "    for i in range (n):\n",
    "        yield i**2 #Creates a local variable and saves the values. This keyword can only be used in a function\n",
    "\n",
    "square(3)"
   ]
  },
  {
   "cell_type": "code",
   "execution_count": 38,
   "metadata": {},
   "outputs": [
    {
     "name": "stdout",
     "output_type": "stream",
     "text": [
      "0\n",
      "1\n",
      "4\n"
     ]
    }
   ],
   "source": [
    "for i in square(3):\n",
    "    print(i) #These values are not stored in the memory"
   ]
  },
  {
   "cell_type": "code",
   "execution_count": 39,
   "metadata": {},
   "outputs": [
    {
     "name": "stdout",
     "output_type": "stream",
     "text": [
      "0\n",
      "1\n",
      "4\n"
     ]
    }
   ],
   "source": [
    "a = square(3)\n",
    "\n",
    "for i in a:\n",
    "    print(i)"
   ]
  },
  {
   "cell_type": "markdown",
   "metadata": {},
   "source": [
    "Generators are useful for large files because thay can process one line at a time without loading the entire file into memory"
   ]
  },
  {
   "cell_type": "code",
   "execution_count": 40,
   "metadata": {},
   "outputs": [],
   "source": [
    "def read_file(path):\n",
    "    with open(path, \"r\") as f:\n",
    "        for line in f:\n",
    "            yield line"
   ]
  },
  {
   "cell_type": "code",
   "execution_count": 44,
   "metadata": {},
   "outputs": [
    {
     "name": "stdout",
     "output_type": "stream",
     "text": [
      "Roswaal Manor.\n",
      "\n",
      "And more importantlyâ€”\n",
      "\n",
      "Sister, Sister. Our Dear Guest appears to be slow to wake.\n",
      "\n",
      "Rem, Rem. Our Dear Guest seems to be slow in the head for his age.\n",
      "\n",
      "The twin sisters were clasping the others hands, their eyes side by side as\n",
      "\n",
      "they looked at Subaru from the foot of the bed.\n",
      "\n",
      "They wore little black dresses with white aprons on the front. Both had\n",
      "\n",
      "dazzling white lace headpieces on top of their short bob hairstyles, one with\n",
      "\n",
      "pink hair, the other with blue. Their faces were young and lovely.\n",
      "\n",
      "They were the maids who took care of the mansion, and also the reason\n",
      "\n",
      "Subaru had made his Return by Death.\n",
      "\n",
      "Subarus heart shuddered at hearing their familiar voices speaking in\n",
      "\n",
      "familiar ways, during what would be the fifth round of meeting them for the\n",
      "\n",
      "first time.\n",
      "\n",
      "He had a mountain of things he wanted to ask. But he felt like something\n",
      "\n",
      "was lodged in his throat; the words wouldnt come out.\n",
      "\n",
      "Seeing Rem alive and well, while Ram behaved with her typical rudeness,\n",
      "\n",
      "everything felt so ordinary and natural that it was hard for Subaru to keep his\n",
      "\n",
      "emotions down.\n",
      "\n",
      "Dear Guest, Dear Guest. Is something wrong? Are you unwell?\n",
      "\n",
      "Dear Guest, Dear Guest. Are you sick? Perhaps a chronic illness?\n",
      "\n",
      "Subaru put a hand on his chest and lowered his head before the\n",
      "\n",
      "bewildered twins.\n",
      "\n",
      "The maids went to one side of the bed and separated slightly, reaching out\n",
      "\n",
      "with one small palm each as if to touch Subaru from both sides.\n",
      "\n",
      "Those handsâ€”\n",
      "\n",
      "Let me borrow those for a sec.\n",
      "\n",
      "Eh?\n",
      "\n",
      "Ah.\n",
      "\n",
      "Subaru, not waiting for them to say yes, grasped their hands, entwining\n",
      "\n",
      "his fingers into theirs.\n",
      "\n",
      "With the sisters frozen in surprise, he got a good feel for their slender\n",
      "\n",
      "fingers and the warmth of their palms.\n",
      "\n",
      "Yeah, I knew itâ€¦ Theres no mistaking it.\n",
      "\n",
      "Subaru remembered the feel of their hands and how their warmth had\n",
      "\n",
      "saved him in his time of need.\n",
      "\n",
      "https://mp4directs.com\n",
      "\n",
      "He wasnt wrong about what had given him the determination to throw\n",
      "\n",
      "himself off that cliff.\n",
      "\n",
      "Both pulled their hands back and poured scorn on Subarus rude, insolent\n",
      "\n",
      "behavior.\n",
      "\n",
      "No, Dear Guest. You are surely mistaken. About everything.\n",
      "\n",
      "No, Dear Guest. It was surely a mistake that you were born.\n",
      "\n",
      "But Subaru nodded as if even those cruel words were music that refreshed\n",
      "\n",
      "his soul.\n",
      "\n",
      "All things considered, I probably shouldnt smile at thatâ€¦but right now,\n",
      "\n",
      "it feels good.\n",
      "\n",
      "Sister, Sister. Might Dear Guest actually enjoy being insulted?\n",
      "\n",
      "Rem, Rem. Might Dear Guest be a perverted masochist?\n",
      "\n",
      "These were odd accusations to throw at a Dear Guest so quickly, but he\n",
      "\n",
      "smiled and let them slide.\n",
      "\n",
      "If it meant he could really do things over with the two of them, everything\n",
      "\n",
      "else was unimportant.\n",
      "\n",
      "Faced with an attitude that was less caution and more blatant, visceral\n",
      "\n",
      "distaste, Subaru hopped off the bed. He pressed a hand to his butt as he\n",
      "\n",
      "double-checked his bodys condition before turning toward their two\n",
      "\n",
      "suspicious faces.\n",
      "\n",
      "Sorry for doing that earlier without even saying hi. Theres something I\n",
      "\n",
      "want to say beyond apologizing, though.\n",
      "\n",
      "Subaru crossed his arms, dramatically puffed his chest, and sat back\n",
      "\n",
      "down, directly facing Ram and Rem. Feeling the rather sharp gazes that both\n",
      "\n",
      "trained upon him, Subaru absentmindedly mused, Theyre probably already\n",
      "\n",
      "starting to assess me.\n",
      "\n",
      "If Subaru Natsuki could not win their trust, indeed, the trust of everyone\n",
      "\n",
      "under the mansions roof, he could not hope to regain the peaceful, tranquil\n",
      "\n",
      "time he had lost.\n"
     ]
    }
   ],
   "source": [
    "for line in read_file(\"sample.txt\"):\n",
    "    try:\n",
    "        print(line)\n",
    "    except UnicodeDecodeError:\n",
    "        pass"
   ]
  },
  {
   "cell_type": "markdown",
   "metadata": {},
   "source": [
    "### Closures\n",
    "It is a method within a method. Sub method can access variables passed to or defined in the parent method"
   ]
  },
  {
   "cell_type": "code",
   "execution_count": 52,
   "metadata": {},
   "outputs": [],
   "source": [
    "def welcome(msg):\n",
    "    lang = 'python'\n",
    "    def sub_welcome():\n",
    "        print(msg+' to '+lang)\n",
    "        print('Inside sub_welcome')\n",
    "\n",
    "    return sub_welcome()\n"
   ]
  },
  {
   "cell_type": "code",
   "execution_count": 53,
   "metadata": {},
   "outputs": [
    {
     "name": "stdout",
     "output_type": "stream",
     "text": [
      "welcome to python\n",
      "Inside sub_welcome\n"
     ]
    }
   ],
   "source": [
    "welcome('welcome')"
   ]
  },
  {
   "cell_type": "markdown",
   "metadata": {},
   "source": [
    "### Decorators"
   ]
  },
  {
   "cell_type": "code",
   "execution_count": 55,
   "metadata": {},
   "outputs": [],
   "source": [
    "def welcome(func):\n",
    "    \n",
    "    def sub_welcome():\n",
    "        print('Inside sub_welcome')\n",
    "        func()\n",
    "\n",
    "    return sub_welcome()"
   ]
  },
  {
   "cell_type": "code",
   "execution_count": 58,
   "metadata": {},
   "outputs": [],
   "source": [
    "def intro():\n",
    "    print('called from welcome --> sub_welcome')"
   ]
  },
  {
   "cell_type": "code",
   "execution_count": 59,
   "metadata": {},
   "outputs": [
    {
     "name": "stdout",
     "output_type": "stream",
     "text": [
      "Inside sub_welcome\n",
      "called from welcome --> sub_welcome\n"
     ]
    }
   ],
   "source": [
    "welcome(intro)"
   ]
  },
  {
   "cell_type": "code",
   "execution_count": 60,
   "metadata": {},
   "outputs": [
    {
     "name": "stdout",
     "output_type": "stream",
     "text": [
      "Inside sub_welcome\n",
      "Passed as parameter via decorator called from welcome --> sub_welcome\n"
     ]
    }
   ],
   "source": [
    "@welcome\n",
    "def intro2():\n",
    "    print('Passed as parameter via decorator called from welcome --> sub_welcome')"
   ]
  },
  {
   "cell_type": "code",
   "execution_count": null,
   "metadata": {},
   "outputs": [],
   "source": [
    "def my_decorator(func):\n",
    "\n",
    "    def wrapper():\n",
    "        print(\"Something is happening before the function is called.\")\n",
    "        func()\n",
    "        print(\"Something is happening after the function is called.\")\n",
    "\n",
    "    return wrapper #Returning the function, not calling it"
   ]
  },
  {
   "cell_type": "code",
   "execution_count": 67,
   "metadata": {},
   "outputs": [],
   "source": [
    "@my_decorator\n",
    "def say_hello():\n",
    "    print(\"Hello\")"
   ]
  },
  {
   "cell_type": "code",
   "execution_count": 70,
   "metadata": {},
   "outputs": [
    {
     "name": "stdout",
     "output_type": "stream",
     "text": [
      "<function my_decorator.<locals>.wrapper at 0x0000022028380B80>\n"
     ]
    }
   ],
   "source": [
    "print(say_hello)"
   ]
  },
  {
   "cell_type": "code",
   "execution_count": null,
   "metadata": {},
   "outputs": [],
   "source": []
  }
 ],
 "metadata": {
  "kernelspec": {
   "display_name": "Python 3",
   "language": "python",
   "name": "python3"
  },
  "language_info": {
   "codemirror_mode": {
    "name": "ipython",
    "version": 3
   },
   "file_extension": ".py",
   "mimetype": "text/x-python",
   "name": "python",
   "nbconvert_exporter": "python",
   "pygments_lexer": "ipython3",
   "version": "3.10.0"
  }
 },
 "nbformat": 4,
 "nbformat_minor": 2
}
