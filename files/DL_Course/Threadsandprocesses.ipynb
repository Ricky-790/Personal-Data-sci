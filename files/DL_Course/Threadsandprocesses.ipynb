{
 "cells": [
  {
   "cell_type": "markdown",
   "metadata": {},
   "source": [
    "### Web scraping using threads"
   ]
  },
  {
   "cell_type": "code",
   "execution_count": 1,
   "metadata": {},
   "outputs": [
    {
     "data": {
      "text/plain": [
       "'\\nLinks: \\nhttps://python.langchain.com/docs/introduction/\\nhttps://python.langchain.com/docs/introduction/#conceptual-guide\\nhttps://python.langchain.com/docs/introduction/#tutorials\\n'"
      ]
     },
     "execution_count": 1,
     "metadata": {},
     "output_type": "execute_result"
    }
   ],
   "source": [
    "'''\n",
    "Links: \n",
    "https://python.langchain.com/docs/introduction/\n",
    "https://python.langchain.com/docs/introduction/#conceptual-guide\n",
    "https://python.langchain.com/docs/introduction/#tutorials\n",
    "'''"
   ]
  },
  {
   "cell_type": "code",
   "execution_count": 2,
   "metadata": {},
   "outputs": [],
   "source": [
    "import threading\n",
    "import requests\n",
    "import bs4\n",
    "import time"
   ]
  },
  {
   "cell_type": "code",
   "execution_count": 3,
   "metadata": {},
   "outputs": [],
   "source": [
    "from bs4 import BeautifulSoup\n",
    "urls = [\n",
    "    'https://python.langchain.com/docs/introduction/',\n",
    "    'https://python.langchain.com/docs/introduction/#conceptual-guide',\n",
    "    'https://python.langchain.com/docs/introduction/#tutorials'\n",
    "]"
   ]
  },
  {
   "cell_type": "code",
   "execution_count": 4,
   "metadata": {},
   "outputs": [],
   "source": [
    "def fetch_contents(url):\n",
    "    response = requests.get(url)\n",
    "    soup = BeautifulSoup(response.content, 'html.parser')\n",
    "    print(f'Fetched {len(soup.text)} characters from {url}')"
   ]
  },
  {
   "cell_type": "code",
   "execution_count": 5,
   "metadata": {},
   "outputs": [
    {
     "name": "stdout",
     "output_type": "stream",
     "text": [
      "Fetched 11973 characters from https://python.langchain.com/docs/introduction/#conceptual-guideFetched 11973 characters from https://python.langchain.com/docs/introduction/#tutorials\n",
      "\n",
      "Fetched 11973 characters from https://python.langchain.com/docs/introduction/\n",
      "All pages fetched\n"
     ]
    }
   ],
   "source": [
    "threads = []\n",
    "\n",
    "for url in urls:\n",
    "    thread = threading.Thread(target=fetch_contents, args=(url,))\n",
    "    threads.append(thread)\n",
    "    thread.start()\n",
    "\n",
    "for thread in threads:\n",
    "    thread.join()\n",
    "\n",
    "print(\"All pages fetched\")"
   ]
  },
  {
   "cell_type": "code",
   "execution_count": 6,
   "metadata": {},
   "outputs": [
    {
     "data": {
      "text/plain": [
       "16804"
      ]
     },
     "execution_count": 6,
     "metadata": {},
     "output_type": "execute_result"
    }
   ],
   "source": [
    "import gc\n",
    "\n",
    "gc.collect()"
   ]
  },
  {
   "cell_type": "code",
   "execution_count": 7,
   "metadata": {},
   "outputs": [
    {
     "data": {
      "text/plain": [
       "[{'collections': 251, 'collected': 1728, 'uncollectable': 0},\n",
       " {'collections': 22, 'collected': 608, 'uncollectable': 0},\n",
       " {'collections': 3, 'collected': 16804, 'uncollectable': 0}]"
      ]
     },
     "execution_count": 7,
     "metadata": {},
     "output_type": "execute_result"
    }
   ],
   "source": [
    "gc.get_stats()"
   ]
  },
  {
   "cell_type": "code",
   "execution_count": null,
   "metadata": {},
   "outputs": [],
   "source": []
  }
 ],
 "metadata": {
  "kernelspec": {
   "display_name": "Python 3",
   "language": "python",
   "name": "python3"
  },
  "language_info": {
   "codemirror_mode": {
    "name": "ipython",
    "version": 3
   },
   "file_extension": ".py",
   "mimetype": "text/x-python",
   "name": "python",
   "nbconvert_exporter": "python",
   "pygments_lexer": "ipython3",
   "version": "3.10.0"
  }
 },
 "nbformat": 4,
 "nbformat_minor": 2
}
