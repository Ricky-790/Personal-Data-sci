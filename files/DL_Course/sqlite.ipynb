{
 "cells": [
  {
   "cell_type": "code",
   "execution_count": 13,
   "metadata": {},
   "outputs": [],
   "source": [
    "import sqlite3"
   ]
  },
  {
   "cell_type": "code",
   "execution_count": 14,
   "metadata": {},
   "outputs": [
    {
     "data": {
      "text/plain": [
       "<sqlite3.Connection at 0x26018447240>"
      ]
     },
     "execution_count": 14,
     "metadata": {},
     "output_type": "execute_result"
    }
   ],
   "source": [
    "# Connect to the database\n",
    "connection = sqlite3.connect('example.db') #Creates example.db if it doesn't exist\n",
    "connection\n"
   ]
  },
  {
   "cell_type": "code",
   "execution_count": 15,
   "metadata": {},
   "outputs": [],
   "source": [
    "cursor = connection.cursor()"
   ]
  },
  {
   "cell_type": "code",
   "execution_count": 16,
   "metadata": {},
   "outputs": [],
   "source": [
    "#Create a table\n",
    "cursor.execute('''\n",
    "               CREATE TABLE IF NOT EXISTS Employees (\n",
    "               id INTEGER PRIMARY KEY, \n",
    "               name TEXT NOT NULL, \n",
    "               age INTEGER,\n",
    "               department TEXT\n",
    "               )''')\n",
    "\n",
    "connection.commit() #Save changes"
   ]
  },
  {
   "cell_type": "code",
   "execution_count": 17,
   "metadata": {},
   "outputs": [
    {
     "data": {
      "text/plain": [
       "<sqlite3.Cursor at 0x2601984fec0>"
      ]
     },
     "execution_count": 17,
     "metadata": {},
     "output_type": "execute_result"
    }
   ],
   "source": [
    "cursor.execute('''\n",
    "               Select * from employees\n",
    "               ''')"
   ]
  },
  {
   "cell_type": "markdown",
   "metadata": {},
   "source": [
    "### Create"
   ]
  },
  {
   "cell_type": "code",
   "execution_count": 18,
   "metadata": {},
   "outputs": [],
   "source": [
    "#Insert data in sqlite table\n",
    "cursor.execute('''\n",
    "               INSERT INTO Employees (name, age, department) VALUES (\"John\", 25, \"IT\")\n",
    "               ''')\n",
    "cursor.execute('''\n",
    "               INSERT INTO Employees (name, age, department) VALUES (\"Jane\", 30, \"HR\")\n",
    "               ''')\n",
    "cursor.execute('''\n",
    "               INSERT INTO Employees (name, age, department) VALUES (\"Bob\", 35, \"Finance\")\n",
    "               ''')\n",
    "\n",
    "connection.commit()"
   ]
  },
  {
   "cell_type": "markdown",
   "metadata": {},
   "source": [
    "### Read"
   ]
  },
  {
   "cell_type": "code",
   "execution_count": 19,
   "metadata": {},
   "outputs": [
    {
     "name": "stdout",
     "output_type": "stream",
     "text": [
      "(1, 'John', 26, 'IT')\n",
      "(3, 'Bob', 35, 'Finance')\n",
      "(4, 'John', 26, 'IT')\n",
      "(6, 'Bob', 35, 'Finance')\n",
      "(7, 'John', 25, 'IT')\n",
      "(8, 'Jane', 30, 'HR')\n",
      "(9, 'Bob', 35, 'Finance')\n"
     ]
    }
   ],
   "source": [
    "#Querying data from sqlite3 table\n",
    "cursor.execute('''\n",
    "               SELECT * FROM Employees\n",
    "               ''')\n",
    "rows = cursor.fetchall()\n",
    "\n",
    "for row in rows:\n",
    "    print(row)"
   ]
  },
  {
   "cell_type": "markdown",
   "metadata": {},
   "source": [
    "### Update"
   ]
  },
  {
   "cell_type": "code",
   "execution_count": 20,
   "metadata": {},
   "outputs": [],
   "source": [
    "cursor.execute('''\n",
    "UPDATE Employees\n",
    "SET age = 26\n",
    "WHERE name = \"John\"\n",
    "''')\n",
    "connection.commit()"
   ]
  },
  {
   "cell_type": "code",
   "execution_count": 21,
   "metadata": {},
   "outputs": [
    {
     "name": "stdout",
     "output_type": "stream",
     "text": [
      "(1, 'John', 26, 'IT')\n",
      "(3, 'Bob', 35, 'Finance')\n",
      "(4, 'John', 26, 'IT')\n",
      "(6, 'Bob', 35, 'Finance')\n",
      "(7, 'John', 26, 'IT')\n",
      "(8, 'Jane', 30, 'HR')\n",
      "(9, 'Bob', 35, 'Finance')\n"
     ]
    }
   ],
   "source": [
    "#Querying data from sqlite3 table\n",
    "cursor.execute('''\n",
    "               SELECT * FROM Employees\n",
    "               ''')\n",
    "rows = cursor.fetchall()\n",
    "\n",
    "for row in rows:\n",
    "    print(row)"
   ]
  },
  {
   "cell_type": "markdown",
   "metadata": {},
   "source": [
    "### Delete"
   ]
  },
  {
   "cell_type": "code",
   "execution_count": 22,
   "metadata": {},
   "outputs": [],
   "source": [
    "cursor.execute('''\n",
    "DELETE FROM Employees\n",
    "WHERE name = \"Jane\"\n",
    "''')\n",
    "connection.commit()"
   ]
  },
  {
   "cell_type": "code",
   "execution_count": 23,
   "metadata": {},
   "outputs": [
    {
     "name": "stdout",
     "output_type": "stream",
     "text": [
      "(1, 'John', 26, 'IT')\n",
      "(3, 'Bob', 35, 'Finance')\n",
      "(4, 'John', 26, 'IT')\n",
      "(6, 'Bob', 35, 'Finance')\n",
      "(7, 'John', 26, 'IT')\n",
      "(9, 'Bob', 35, 'Finance')\n"
     ]
    }
   ],
   "source": [
    "#Querying data from sqlite3 table\n",
    "cursor.execute('''\n",
    "               SELECT * FROM Employees\n",
    "               ''')\n",
    "rows = cursor.fetchall()\n",
    "\n",
    "for row in rows:\n",
    "    print(row)"
   ]
  },
  {
   "cell_type": "markdown",
   "metadata": {},
   "source": [
    "### Bulk Insertion"
   ]
  },
  {
   "cell_type": "code",
   "execution_count": 31,
   "metadata": {},
   "outputs": [],
   "source": [
    "data = [\n",
    "    ('John', 25, 'IT'),\n",
    "    ('Jane', 30, 'HR'),\n",
    "    ('Bob', 35, 'Finance'),\n",
    "    ('Charlie', 40, 'Marketing')\n",
    "]\n",
    "\n",
    "cursor.executemany('''\n",
    "                   Insert into employees(name, age, department) values(?,?,?)\n",
    "                   ''', data )\n",
    "\n",
    "connection.commit()"
   ]
  },
  {
   "cell_type": "code",
   "execution_count": 32,
   "metadata": {},
   "outputs": [],
   "source": [
    "#Close the connection\n",
    "connection.close()"
   ]
  }
 ],
 "metadata": {
  "kernelspec": {
   "display_name": "Python 3",
   "language": "python",
   "name": "python3"
  },
  "language_info": {
   "codemirror_mode": {
    "name": "ipython",
    "version": 3
   },
   "file_extension": ".py",
   "mimetype": "text/x-python",
   "name": "python",
   "nbconvert_exporter": "python",
   "pygments_lexer": "ipython3",
   "version": "3.10.0"
  }
 },
 "nbformat": 4,
 "nbformat_minor": 2
}
